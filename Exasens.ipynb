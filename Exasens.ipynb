{
  "nbformat": 4,
  "nbformat_minor": 0,
  "metadata": {
    "colab": {
      "name": "Exasens.ipynb",
      "provenance": []
    },
    "kernelspec": {
      "name": "python3",
      "display_name": "Python 3"
    }
  },
  "cells": [
    {
      "cell_type": "code",
      "metadata": {
        "id": "wFi-LGWl8Iuc"
      },
      "source": [
        "import pandas as pd\n",
        "import numpy as np\n",
        "import seaborn as sns\n",
        "from sklearn.cluster import KMeans\n",
        "from sklearn.preprocessing import MinMaxScaler\n",
        "from google.colab import drive\n",
        "import matplotlib.pyplot as plt\n",
        "from sklearn.preprocessing import MinMaxScaler "
      ],
      "execution_count": null,
      "outputs": []
    },
    {
      "cell_type": "code",
      "metadata": {
        "colab": {
          "base_uri": "https://localhost:8080/"
        },
        "id": "r2Vx-LXenSZd",
        "outputId": "60f07b2c-8761-43a0-e149-cf6ebb312baf"
      },
      "source": [
        "from google.colab import drive\n",
        "drive.mount(\"/content/gdrive\")"
      ],
      "execution_count": null,
      "outputs": [
        {
          "output_type": "stream",
          "text": [
            "Drive already mounted at /content/gdrive; to attempt to forcibly remount, call drive.mount(\"/content/gdrive\", force_remount=True).\n"
          ],
          "name": "stdout"
        }
      ]
    },
    {
      "cell_type": "code",
      "metadata": {
        "colab": {
          "base_uri": "https://localhost:8080/",
          "height": 202
        },
        "id": "zAk9I1sanWDz",
        "outputId": "6b742bdd-8d40-4194-f39a-6ef74b292436"
      },
      "source": [
        "data=pd.read_csv('/content/gdrive/My Drive/Data/Exasens.csv')\n",
        "data.head()"
      ],
      "execution_count": null,
      "outputs": [
        {
          "output_type": "execute_result",
          "data": {
            "text/html": [
              "<div>\n",
              "<style scoped>\n",
              "    .dataframe tbody tr th:only-of-type {\n",
              "        vertical-align: middle;\n",
              "    }\n",
              "\n",
              "    .dataframe tbody tr th {\n",
              "        vertical-align: top;\n",
              "    }\n",
              "\n",
              "    .dataframe thead th {\n",
              "        text-align: right;\n",
              "    }\n",
              "</style>\n",
              "<table border=\"1\" class=\"dataframe\">\n",
              "  <thead>\n",
              "    <tr style=\"text-align: right;\">\n",
              "      <th></th>\n",
              "      <th>Diagnosis</th>\n",
              "      <th>ID</th>\n",
              "      <th>Imaginary Part</th>\n",
              "      <th>Unnamed: 3</th>\n",
              "      <th>Real Part</th>\n",
              "      <th>Unnamed: 5</th>\n",
              "      <th>Gender</th>\n",
              "      <th>Age</th>\n",
              "      <th>Smoking</th>\n",
              "      <th>Unnamed: 9</th>\n",
              "      <th>Unnamed: 10</th>\n",
              "      <th>Unnamed: 11</th>\n",
              "      <th>Unnamed: 12</th>\n",
              "    </tr>\n",
              "  </thead>\n",
              "  <tbody>\n",
              "    <tr>\n",
              "      <th>0</th>\n",
              "      <td>NaN</td>\n",
              "      <td>NaN</td>\n",
              "      <td>NaN</td>\n",
              "      <td>NaN</td>\n",
              "      <td>NaN</td>\n",
              "      <td>NaN</td>\n",
              "      <td>NaN</td>\n",
              "      <td>NaN</td>\n",
              "      <td>NaN</td>\n",
              "      <td>NaN</td>\n",
              "      <td>NaN</td>\n",
              "      <td>NaN</td>\n",
              "      <td>NaN</td>\n",
              "    </tr>\n",
              "    <tr>\n",
              "      <th>1</th>\n",
              "      <td>NaN</td>\n",
              "      <td>NaN</td>\n",
              "      <td>Min</td>\n",
              "      <td>Avg.</td>\n",
              "      <td>Min</td>\n",
              "      <td>Avg.</td>\n",
              "      <td>NaN</td>\n",
              "      <td>NaN</td>\n",
              "      <td>NaN</td>\n",
              "      <td>NaN</td>\n",
              "      <td>NaN</td>\n",
              "      <td>Gender</td>\n",
              "      <td>Somking</td>\n",
              "    </tr>\n",
              "    <tr>\n",
              "      <th>2</th>\n",
              "      <td>COPD</td>\n",
              "      <td>301-4</td>\n",
              "      <td>-320.61</td>\n",
              "      <td>-300.5635307</td>\n",
              "      <td>-495.26</td>\n",
              "      <td>-464.1719907</td>\n",
              "      <td>1.0</td>\n",
              "      <td>77.0</td>\n",
              "      <td>2.0</td>\n",
              "      <td>NaN</td>\n",
              "      <td>NaN</td>\n",
              "      <td>Male=1</td>\n",
              "      <td>Non-smoker=1</td>\n",
              "    </tr>\n",
              "    <tr>\n",
              "      <th>3</th>\n",
              "      <td>COPD</td>\n",
              "      <td>302-3</td>\n",
              "      <td>-325.39</td>\n",
              "      <td>-314.7503595</td>\n",
              "      <td>-473.73</td>\n",
              "      <td>-469.2631404</td>\n",
              "      <td>0.0</td>\n",
              "      <td>72.0</td>\n",
              "      <td>2.0</td>\n",
              "      <td>NaN</td>\n",
              "      <td>NaN</td>\n",
              "      <td>Female=0</td>\n",
              "      <td>Ex-smoker=2</td>\n",
              "    </tr>\n",
              "    <tr>\n",
              "      <th>4</th>\n",
              "      <td>COPD</td>\n",
              "      <td>303-3</td>\n",
              "      <td>-323</td>\n",
              "      <td>-317.4360556</td>\n",
              "      <td>-476.12</td>\n",
              "      <td>-471.8976667</td>\n",
              "      <td>1.0</td>\n",
              "      <td>73.0</td>\n",
              "      <td>3.0</td>\n",
              "      <td>NaN</td>\n",
              "      <td>NaN</td>\n",
              "      <td>NaN</td>\n",
              "      <td>Active-smoker=3</td>\n",
              "    </tr>\n",
              "  </tbody>\n",
              "</table>\n",
              "</div>"
            ],
            "text/plain": [
              "  Diagnosis     ID Imaginary Part  ... Unnamed: 10 Unnamed: 11      Unnamed: 12\n",
              "0       NaN    NaN            NaN  ...         NaN         NaN              NaN\n",
              "1       NaN    NaN           Min   ...         NaN     Gender           Somking\n",
              "2      COPD  301-4        -320.61  ...         NaN      Male=1     Non-smoker=1\n",
              "3      COPD  302-3        -325.39  ...         NaN    Female=0      Ex-smoker=2\n",
              "4      COPD  303-3           -323  ...         NaN         NaN  Active-smoker=3\n",
              "\n",
              "[5 rows x 13 columns]"
            ]
          },
          "metadata": {
            "tags": []
          },
          "execution_count": 69
        }
      ]
    },
    {
      "cell_type": "code",
      "metadata": {
        "id": "ChdfYdY1Puks",
        "colab": {
          "base_uri": "https://localhost:8080/"
        },
        "outputId": "91aab105-890d-490e-9876-36c09b20b1fd"
      },
      "source": [
        "data.info()"
      ],
      "execution_count": null,
      "outputs": [
        {
          "output_type": "stream",
          "text": [
            "<class 'pandas.core.frame.DataFrame'>\n",
            "RangeIndex: 401 entries, 0 to 400\n",
            "Data columns (total 13 columns):\n",
            " #   Column          Non-Null Count  Dtype  \n",
            "---  ------          --------------  -----  \n",
            " 0   Diagnosis       399 non-null    object \n",
            " 1   ID              399 non-null    object \n",
            " 2   Imaginary Part  101 non-null    object \n",
            " 3   Unnamed: 3      101 non-null    object \n",
            " 4   Real Part       101 non-null    object \n",
            " 5   Unnamed: 5      101 non-null    object \n",
            " 6   Gender          399 non-null    float64\n",
            " 7   Age             399 non-null    float64\n",
            " 8   Smoking         399 non-null    float64\n",
            " 9   Unnamed: 9      0 non-null      float64\n",
            " 10  Unnamed: 10     0 non-null      float64\n",
            " 11  Unnamed: 11     3 non-null      object \n",
            " 12  Unnamed: 12     4 non-null      object \n",
            "dtypes: float64(5), object(8)\n",
            "memory usage: 40.9+ KB\n"
          ],
          "name": "stdout"
        }
      ]
    },
    {
      "cell_type": "code",
      "metadata": {
        "id": "i64yCJH_62GX",
        "colab": {
          "base_uri": "https://localhost:8080/",
          "height": 391
        },
        "outputId": "20830263-92d3-4835-859a-8de959befeab"
      },
      "source": [
        "data=data.drop(['Unnamed: 3','Unnamed: 5','Unnamed: 9','Unnamed: 10','Unnamed: 11','Unnamed: 12'], axis=1)\n",
        "data"
      ],
      "execution_count": null,
      "outputs": [
        {
          "output_type": "execute_result",
          "data": {
            "text/html": [
              "<div>\n",
              "<style scoped>\n",
              "    .dataframe tbody tr th:only-of-type {\n",
              "        vertical-align: middle;\n",
              "    }\n",
              "\n",
              "    .dataframe tbody tr th {\n",
              "        vertical-align: top;\n",
              "    }\n",
              "\n",
              "    .dataframe thead th {\n",
              "        text-align: right;\n",
              "    }\n",
              "</style>\n",
              "<table border=\"1\" class=\"dataframe\">\n",
              "  <thead>\n",
              "    <tr style=\"text-align: right;\">\n",
              "      <th></th>\n",
              "      <th>Diagnosis</th>\n",
              "      <th>ID</th>\n",
              "      <th>Imaginary Part</th>\n",
              "      <th>Real Part</th>\n",
              "      <th>Gender</th>\n",
              "      <th>Age</th>\n",
              "      <th>Smoking</th>\n",
              "    </tr>\n",
              "  </thead>\n",
              "  <tbody>\n",
              "    <tr>\n",
              "      <th>0</th>\n",
              "      <td>NaN</td>\n",
              "      <td>NaN</td>\n",
              "      <td>NaN</td>\n",
              "      <td>NaN</td>\n",
              "      <td>NaN</td>\n",
              "      <td>NaN</td>\n",
              "      <td>NaN</td>\n",
              "    </tr>\n",
              "    <tr>\n",
              "      <th>1</th>\n",
              "      <td>NaN</td>\n",
              "      <td>NaN</td>\n",
              "      <td>Min</td>\n",
              "      <td>Min</td>\n",
              "      <td>NaN</td>\n",
              "      <td>NaN</td>\n",
              "      <td>NaN</td>\n",
              "    </tr>\n",
              "    <tr>\n",
              "      <th>2</th>\n",
              "      <td>COPD</td>\n",
              "      <td>301-4</td>\n",
              "      <td>-320.61</td>\n",
              "      <td>-495.26</td>\n",
              "      <td>1.0</td>\n",
              "      <td>77.0</td>\n",
              "      <td>2.0</td>\n",
              "    </tr>\n",
              "    <tr>\n",
              "      <th>3</th>\n",
              "      <td>COPD</td>\n",
              "      <td>302-3</td>\n",
              "      <td>-325.39</td>\n",
              "      <td>-473.73</td>\n",
              "      <td>0.0</td>\n",
              "      <td>72.0</td>\n",
              "      <td>2.0</td>\n",
              "    </tr>\n",
              "    <tr>\n",
              "      <th>4</th>\n",
              "      <td>COPD</td>\n",
              "      <td>303-3</td>\n",
              "      <td>-323</td>\n",
              "      <td>-476.12</td>\n",
              "      <td>1.0</td>\n",
              "      <td>73.0</td>\n",
              "      <td>3.0</td>\n",
              "    </tr>\n",
              "    <tr>\n",
              "      <th>...</th>\n",
              "      <td>...</td>\n",
              "      <td>...</td>\n",
              "      <td>...</td>\n",
              "      <td>...</td>\n",
              "      <td>...</td>\n",
              "      <td>...</td>\n",
              "      <td>...</td>\n",
              "    </tr>\n",
              "    <tr>\n",
              "      <th>396</th>\n",
              "      <td>Infected</td>\n",
              "      <td>I176</td>\n",
              "      <td>NaN</td>\n",
              "      <td>NaN</td>\n",
              "      <td>0.0</td>\n",
              "      <td>49.0</td>\n",
              "      <td>2.0</td>\n",
              "    </tr>\n",
              "    <tr>\n",
              "      <th>397</th>\n",
              "      <td>Infected</td>\n",
              "      <td>I177</td>\n",
              "      <td>NaN</td>\n",
              "      <td>NaN</td>\n",
              "      <td>0.0</td>\n",
              "      <td>37.0</td>\n",
              "      <td>1.0</td>\n",
              "    </tr>\n",
              "    <tr>\n",
              "      <th>398</th>\n",
              "      <td>Infected</td>\n",
              "      <td>I178</td>\n",
              "      <td>NaN</td>\n",
              "      <td>NaN</td>\n",
              "      <td>0.0</td>\n",
              "      <td>29.0</td>\n",
              "      <td>1.0</td>\n",
              "    </tr>\n",
              "    <tr>\n",
              "      <th>399</th>\n",
              "      <td>Infected</td>\n",
              "      <td>I179</td>\n",
              "      <td>NaN</td>\n",
              "      <td>NaN</td>\n",
              "      <td>1.0</td>\n",
              "      <td>51.0</td>\n",
              "      <td>1.0</td>\n",
              "    </tr>\n",
              "    <tr>\n",
              "      <th>400</th>\n",
              "      <td>Infected</td>\n",
              "      <td>I180</td>\n",
              "      <td>NaN</td>\n",
              "      <td>NaN</td>\n",
              "      <td>0.0</td>\n",
              "      <td>40.0</td>\n",
              "      <td>1.0</td>\n",
              "    </tr>\n",
              "  </tbody>\n",
              "</table>\n",
              "<p>401 rows × 7 columns</p>\n",
              "</div>"
            ],
            "text/plain": [
              "    Diagnosis     ID Imaginary Part Real Part  Gender   Age  Smoking\n",
              "0         NaN    NaN            NaN       NaN     NaN   NaN      NaN\n",
              "1         NaN    NaN           Min       Min      NaN   NaN      NaN\n",
              "2        COPD  301-4        -320.61   -495.26     1.0  77.0      2.0\n",
              "3        COPD  302-3        -325.39   -473.73     0.0  72.0      2.0\n",
              "4        COPD  303-3           -323   -476.12     1.0  73.0      3.0\n",
              "..        ...    ...            ...       ...     ...   ...      ...\n",
              "396  Infected   I176            NaN       NaN     0.0  49.0      2.0\n",
              "397  Infected   I177            NaN       NaN     0.0  37.0      1.0\n",
              "398  Infected   I178            NaN       NaN     0.0  29.0      1.0\n",
              "399  Infected   I179            NaN       NaN     1.0  51.0      1.0\n",
              "400  Infected   I180            NaN       NaN     0.0  40.0      1.0\n",
              "\n",
              "[401 rows x 7 columns]"
            ]
          },
          "metadata": {
            "tags": []
          },
          "execution_count": 42
        }
      ]
    },
    {
      "cell_type": "code",
      "metadata": {
        "colab": {
          "base_uri": "https://localhost:8080/"
        },
        "id": "vrHI7nTfq67z",
        "outputId": "ba834143-dd70-4138-a91f-84825e66b80b"
      },
      "source": [
        "data.isnull().sum()"
      ],
      "execution_count": null,
      "outputs": [
        {
          "output_type": "execute_result",
          "data": {
            "text/plain": [
              "Diagnosis           2\n",
              "ID                  2\n",
              "Imaginary Part    300\n",
              "Real Part         300\n",
              "Gender              2\n",
              "Age                 2\n",
              "Smoking             2\n",
              "dtype: int64"
            ]
          },
          "metadata": {
            "tags": []
          },
          "execution_count": 43
        }
      ]
    },
    {
      "cell_type": "code",
      "metadata": {
        "id": "dnJN8WKUcmSz",
        "colab": {
          "base_uri": "https://localhost:8080/",
          "height": 391
        },
        "outputId": "629d1fd7-cd70-412a-b6d7-2260757adfaa"
      },
      "source": [
        "dataTemp=data.dropna()\n",
        "dataTemp"
      ],
      "execution_count": null,
      "outputs": [
        {
          "output_type": "execute_result",
          "data": {
            "text/html": [
              "<div>\n",
              "<style scoped>\n",
              "    .dataframe tbody tr th:only-of-type {\n",
              "        vertical-align: middle;\n",
              "    }\n",
              "\n",
              "    .dataframe tbody tr th {\n",
              "        vertical-align: top;\n",
              "    }\n",
              "\n",
              "    .dataframe thead th {\n",
              "        text-align: right;\n",
              "    }\n",
              "</style>\n",
              "<table border=\"1\" class=\"dataframe\">\n",
              "  <thead>\n",
              "    <tr style=\"text-align: right;\">\n",
              "      <th></th>\n",
              "      <th>Diagnosis</th>\n",
              "      <th>ID</th>\n",
              "      <th>Imaginary Part</th>\n",
              "      <th>Real Part</th>\n",
              "      <th>Gender</th>\n",
              "      <th>Age</th>\n",
              "      <th>Smoking</th>\n",
              "    </tr>\n",
              "  </thead>\n",
              "  <tbody>\n",
              "    <tr>\n",
              "      <th>2</th>\n",
              "      <td>COPD</td>\n",
              "      <td>301-4</td>\n",
              "      <td>-320.61</td>\n",
              "      <td>-495.26</td>\n",
              "      <td>1.0</td>\n",
              "      <td>77.0</td>\n",
              "      <td>2.0</td>\n",
              "    </tr>\n",
              "    <tr>\n",
              "      <th>3</th>\n",
              "      <td>COPD</td>\n",
              "      <td>302-3</td>\n",
              "      <td>-325.39</td>\n",
              "      <td>-473.73</td>\n",
              "      <td>0.0</td>\n",
              "      <td>72.0</td>\n",
              "      <td>2.0</td>\n",
              "    </tr>\n",
              "    <tr>\n",
              "      <th>4</th>\n",
              "      <td>COPD</td>\n",
              "      <td>303-3</td>\n",
              "      <td>-323</td>\n",
              "      <td>-476.12</td>\n",
              "      <td>1.0</td>\n",
              "      <td>73.0</td>\n",
              "      <td>3.0</td>\n",
              "    </tr>\n",
              "    <tr>\n",
              "      <th>5</th>\n",
              "      <td>COPD</td>\n",
              "      <td>304-4</td>\n",
              "      <td>-327.78</td>\n",
              "      <td>-473.73</td>\n",
              "      <td>1.0</td>\n",
              "      <td>76.0</td>\n",
              "      <td>2.0</td>\n",
              "    </tr>\n",
              "    <tr>\n",
              "      <th>6</th>\n",
              "      <td>COPD</td>\n",
              "      <td>305-4</td>\n",
              "      <td>-325.39</td>\n",
              "      <td>-478.52</td>\n",
              "      <td>0.0</td>\n",
              "      <td>65.0</td>\n",
              "      <td>2.0</td>\n",
              "    </tr>\n",
              "    <tr>\n",
              "      <th>...</th>\n",
              "      <td>...</td>\n",
              "      <td>...</td>\n",
              "      <td>...</td>\n",
              "      <td>...</td>\n",
              "      <td>...</td>\n",
              "      <td>...</td>\n",
              "      <td>...</td>\n",
              "    </tr>\n",
              "    <tr>\n",
              "      <th>368</th>\n",
              "      <td>Infected</td>\n",
              "      <td>148-5</td>\n",
              "      <td>-323</td>\n",
              "      <td>-476.12</td>\n",
              "      <td>1.0</td>\n",
              "      <td>38.0</td>\n",
              "      <td>1.0</td>\n",
              "    </tr>\n",
              "    <tr>\n",
              "      <th>369</th>\n",
              "      <td>Infected</td>\n",
              "      <td>149-5</td>\n",
              "      <td>-323</td>\n",
              "      <td>-476.12</td>\n",
              "      <td>1.0</td>\n",
              "      <td>36.0</td>\n",
              "      <td>1.0</td>\n",
              "    </tr>\n",
              "    <tr>\n",
              "      <th>370</th>\n",
              "      <td>Infected</td>\n",
              "      <td>150-5</td>\n",
              "      <td>-323</td>\n",
              "      <td>-480.91</td>\n",
              "      <td>0.0</td>\n",
              "      <td>33.0</td>\n",
              "      <td>1.0</td>\n",
              "    </tr>\n",
              "    <tr>\n",
              "      <th>371</th>\n",
              "      <td>Infected</td>\n",
              "      <td>151-4</td>\n",
              "      <td>-327.78</td>\n",
              "      <td>-476.12</td>\n",
              "      <td>1.0</td>\n",
              "      <td>43.0</td>\n",
              "      <td>1.0</td>\n",
              "    </tr>\n",
              "    <tr>\n",
              "      <th>377</th>\n",
              "      <td>Infected</td>\n",
              "      <td>157-3</td>\n",
              "      <td>-327.78</td>\n",
              "      <td>-473.73</td>\n",
              "      <td>0.0</td>\n",
              "      <td>25.0</td>\n",
              "      <td>2.0</td>\n",
              "    </tr>\n",
              "  </tbody>\n",
              "</table>\n",
              "<p>100 rows × 7 columns</p>\n",
              "</div>"
            ],
            "text/plain": [
              "    Diagnosis     ID Imaginary Part Real Part  Gender   Age  Smoking\n",
              "2        COPD  301-4        -320.61   -495.26     1.0  77.0      2.0\n",
              "3        COPD  302-3        -325.39   -473.73     0.0  72.0      2.0\n",
              "4        COPD  303-3           -323   -476.12     1.0  73.0      3.0\n",
              "5        COPD  304-4        -327.78   -473.73     1.0  76.0      2.0\n",
              "6        COPD  305-4        -325.39   -478.52     0.0  65.0      2.0\n",
              "..        ...    ...            ...       ...     ...   ...      ...\n",
              "368  Infected  148-5           -323   -476.12     1.0  38.0      1.0\n",
              "369  Infected  149-5           -323   -476.12     1.0  36.0      1.0\n",
              "370  Infected  150-5           -323   -480.91     0.0  33.0      1.0\n",
              "371  Infected  151-4        -327.78   -476.12     1.0  43.0      1.0\n",
              "377  Infected  157-3        -327.78   -473.73     0.0  25.0      2.0\n",
              "\n",
              "[100 rows x 7 columns]"
            ]
          },
          "metadata": {
            "tags": []
          },
          "execution_count": 44
        }
      ]
    },
    {
      "cell_type": "code",
      "metadata": {
        "id": "y0Al5zfy8sAH",
        "colab": {
          "base_uri": "https://localhost:8080/"
        },
        "outputId": "c0b6529f-c651-4722-ea0f-61675e9654a6"
      },
      "source": [
        "dataTemp.info()"
      ],
      "execution_count": null,
      "outputs": [
        {
          "output_type": "stream",
          "text": [
            "<class 'pandas.core.frame.DataFrame'>\n",
            "Int64Index: 100 entries, 2 to 377\n",
            "Data columns (total 7 columns):\n",
            " #   Column          Non-Null Count  Dtype  \n",
            "---  ------          --------------  -----  \n",
            " 0   Diagnosis       100 non-null    object \n",
            " 1   ID              100 non-null    object \n",
            " 2   Imaginary Part  100 non-null    object \n",
            " 3   Real Part       100 non-null    object \n",
            " 4   Gender          100 non-null    float64\n",
            " 5   Age             100 non-null    float64\n",
            " 6   Smoking         100 non-null    float64\n",
            "dtypes: float64(3), object(4)\n",
            "memory usage: 6.2+ KB\n"
          ],
          "name": "stdout"
        }
      ]
    },
    {
      "cell_type": "code",
      "metadata": {
        "colab": {
          "base_uri": "https://localhost:8080/",
          "height": 577
        },
        "id": "uhpbYdHF6zrd",
        "outputId": "ea8aee32-3bf5-4151-87c6-bb89227af8da"
      },
      "source": [
        "import matplotlib.pyplot as plt\n",
        "correlation = dataTemp.corr()\n",
        "plt.subplots(figsize = (10,10))\n",
        "sns.heatmap(correlation.round(2), \n",
        "            annot = True, \n",
        "            vmax = 1, \n",
        "            square = True, \n",
        "            cmap = 'RdYlGn_r')\n",
        "plt.show()"
      ],
      "execution_count": null,
      "outputs": [
        {
          "output_type": "display_data",
          "data": {
            "image/png": "[encoded data removed]",
            "text/plain": [
              "<Figure size 720x720 with 2 Axes>"
            ]
          },
          "metadata": {
            "tags": [],
            "needs_background": "light"
          }
        }
      ]
    },
    {
      "cell_type": "code",
      "metadata": {
        "id": "cfEFHoQ39VTN",
        "colab": {
          "base_uri": "https://localhost:8080/",
          "height": 391
        },
        "outputId": "6a317fd6-8e4d-44f0-cc34-e0365145258a"
      },
      "source": [
        "temp=dataTemp.iloc[:, 5:7]\n",
        "temp"
      ],
      "execution_count": null,
      "outputs": [
        {
          "output_type": "execute_result",
          "data": {
            "text/html": [
              "<div>\n",
              "<style scoped>\n",
              "    .dataframe tbody tr th:only-of-type {\n",
              "        vertical-align: middle;\n",
              "    }\n",
              "\n",
              "    .dataframe tbody tr th {\n",
              "        vertical-align: top;\n",
              "    }\n",
              "\n",
              "    .dataframe thead th {\n",
              "        text-align: right;\n",
              "    }\n",
              "</style>\n",
              "<table border=\"1\" class=\"dataframe\">\n",
              "  <thead>\n",
              "    <tr style=\"text-align: right;\">\n",
              "      <th></th>\n",
              "      <th>Age</th>\n",
              "      <th>Smoking</th>\n",
              "    </tr>\n",
              "  </thead>\n",
              "  <tbody>\n",
              "    <tr>\n",
              "      <th>2</th>\n",
              "      <td>77.0</td>\n",
              "      <td>2.0</td>\n",
              "    </tr>\n",
              "    <tr>\n",
              "      <th>3</th>\n",
              "      <td>72.0</td>\n",
              "      <td>2.0</td>\n",
              "    </tr>\n",
              "    <tr>\n",
              "      <th>4</th>\n",
              "      <td>73.0</td>\n",
              "      <td>3.0</td>\n",
              "    </tr>\n",
              "    <tr>\n",
              "      <th>5</th>\n",
              "      <td>76.0</td>\n",
              "      <td>2.0</td>\n",
              "    </tr>\n",
              "    <tr>\n",
              "      <th>6</th>\n",
              "      <td>65.0</td>\n",
              "      <td>2.0</td>\n",
              "    </tr>\n",
              "    <tr>\n",
              "      <th>...</th>\n",
              "      <td>...</td>\n",
              "      <td>...</td>\n",
              "    </tr>\n",
              "    <tr>\n",
              "      <th>368</th>\n",
              "      <td>38.0</td>\n",
              "      <td>1.0</td>\n",
              "    </tr>\n",
              "    <tr>\n",
              "      <th>369</th>\n",
              "      <td>36.0</td>\n",
              "      <td>1.0</td>\n",
              "    </tr>\n",
              "    <tr>\n",
              "      <th>370</th>\n",
              "      <td>33.0</td>\n",
              "      <td>1.0</td>\n",
              "    </tr>\n",
              "    <tr>\n",
              "      <th>371</th>\n",
              "      <td>43.0</td>\n",
              "      <td>1.0</td>\n",
              "    </tr>\n",
              "    <tr>\n",
              "      <th>377</th>\n",
              "      <td>25.0</td>\n",
              "      <td>2.0</td>\n",
              "    </tr>\n",
              "  </tbody>\n",
              "</table>\n",
              "<p>100 rows × 2 columns</p>\n",
              "</div>"
            ],
            "text/plain": [
              "      Age  Smoking\n",
              "2    77.0      2.0\n",
              "3    72.0      2.0\n",
              "4    73.0      3.0\n",
              "5    76.0      2.0\n",
              "6    65.0      2.0\n",
              "..    ...      ...\n",
              "368  38.0      1.0\n",
              "369  36.0      1.0\n",
              "370  33.0      1.0\n",
              "371  43.0      1.0\n",
              "377  25.0      2.0\n",
              "\n",
              "[100 rows x 2 columns]"
            ]
          },
          "metadata": {
            "tags": []
          },
          "execution_count": 47
        }
      ]
    },
    {
      "cell_type": "code",
      "metadata": {
        "id": "08JNnuke93Ss",
        "colab": {
          "base_uri": "https://localhost:8080/",
          "height": 637
        },
        "outputId": "cd37c787-1dc2-402d-d7bd-9228d117c8ca"
      },
      "source": [
        "fig = plt.figure(figsize=(10, 10))\n",
        "plt.title('Prediksi')\n",
        "plt.xlabel('Age')\n",
        "plt.ylabel('Smoking')\n",
        "plt.scatter(temp['Age'], temp['Smoking'], color='k')"
      ],
      "execution_count": null,
      "outputs": [
        {
          "output_type": "execute_result",
          "data": {
            "text/plain": [
              "<matplotlib.collections.PathCollection at 0x7f9d894ff198>"
            ]
          },
          "metadata": {
            "tags": []
          },
          "execution_count": 48
        },
        {
          "output_type": "display_data",
          "data": {
            "image/png": "[encoded data removed]",
            "text/plain": [
              "<Figure size 720x720 with 1 Axes>"
            ]
          },
          "metadata": {
            "tags": [],
            "needs_background": "light"
          }
        }
      ]
    },
    {
      "cell_type": "code",
      "metadata": {
        "id": "vxyLnw-gBuU-"
      },
      "source": [
        "float_array = temp['Age'].values.astype(float)\n",
        "float_array = float_array.reshape(-1,1)\n",
        "min_max_scaler = MinMaxScaler()\n",
        "scaled_array = min_max_scaler.fit_transform(float_array)\n",
        "temp['Age'] = scaled_array"
      ],
      "execution_count": null,
      "outputs": []
    },
    {
      "cell_type": "code",
      "metadata": {
        "id": "b_X3dVSwF6b4"
      },
      "source": [
        "float_array = temp['Smoking'].values.astype(float)\n",
        "float_array = float_array.reshape(-1,1)\n",
        "min_max_scaler = MinMaxScaler()\n",
        "scaled_array = min_max_scaler.fit_transform(float_array)\n",
        "temp['Smoking'] = scaled_array"
      ],
      "execution_count": null,
      "outputs": []
    },
    {
      "cell_type": "code",
      "metadata": {
        "id": "SxQCelcyHQLH"
      },
      "source": [
        "temp_array =  np.array(temp)\n",
        "temp_array"
      ],
      "execution_count": null,
      "outputs": []
    },
    {
      "cell_type": "code",
      "metadata": {
        "id": "1PkjFlfzN8UW",
        "colab": {
          "base_uri": "https://localhost:8080/"
        },
        "outputId": "b585b252-82a0-4d2c-e7e7-b87579a11fc5"
      },
      "source": [
        "Cluster = KMeans(n_clusters =2, random_state=123)\n",
        "Cluster.fit(temp_array)\n",
        "print(Cluster.cluster_centers_)#--- Menampilkan pusat cluster ---"
      ],
      "execution_count": null,
      "outputs": [
        {
          "output_type": "stream",
          "text": [
            "[[0.59210526 0.60483871]\n",
            " [0.24792244 0.        ]]\n"
          ],
          "name": "stdout"
        }
      ]
    },
    {
      "cell_type": "code",
      "metadata": {
        "id": "qogP3eGcOYVm",
        "colab": {
          "base_uri": "https://localhost:8080/"
        },
        "outputId": "14d69390-542a-48cc-8cbc-e4343e51e3e3"
      },
      "source": [
        "print(Cluster.labels_)#--- Menampilkan Hasil Kluster ---\n"
      ],
      "execution_count": null,
      "outputs": [
        {
          "output_type": "stream",
          "text": [
            "[0 0 0 0 0 0 0 0 0 0 0 0 0 0 0 0 0 0 0 0 0 0 0 0 0 1 0 0 0 0 0 0 0 0 0 0 0\n",
            " 0 0 0 0 1 0 0 1 1 1 1 1 1 0 0 0 0 1 1 1 1 1 0 1 0 1 0 0 0 1 0 1 0 0 0 1 1\n",
            " 1 1 1 1 1 1 1 0 0 1 0 1 1 0 0 0 1 1 1 1 1 1 1 1 1 0]\n"
          ],
          "name": "stdout"
        }
      ]
    },
    {
      "cell_type": "code",
      "metadata": {
        "id": "96hC_VoWPQ53",
        "colab": {
          "base_uri": "https://localhost:8080/",
          "height": 488
        },
        "outputId": "1341a7f4-5ca8-44e3-deaa-84d4bd9ea007"
      },
      "source": [
        "dataTemp[\"kluster\"] = Cluster.labels_ \n",
        "dataTemp"
      ],
      "execution_count": null,
      "outputs": [
        {
          "output_type": "stream",
          "text": [
            "/usr/local/lib/python3.6/dist-packages/ipykernel_launcher.py:1: SettingWithCopyWarning: \n",
            "A value is trying to be set on a copy of a slice from a DataFrame.\n",
            "Try using .loc[row_indexer,col_indexer] = value instead\n",
            "\n",
            "See the caveats in the documentation: https://pandas.pydata.org/pandas-docs/stable/user_guide/indexing.html#returning-a-view-versus-a-copy\n",
            "  \"\"\"Entry point for launching an IPython kernel.\n"
          ],
          "name": "stderr"
        },
        {
          "output_type": "execute_result",
          "data": {
            "text/html": [
              "<div>\n",
              "<style scoped>\n",
              "    .dataframe tbody tr th:only-of-type {\n",
              "        vertical-align: middle;\n",
              "    }\n",
              "\n",
              "    .dataframe tbody tr th {\n",
              "        vertical-align: top;\n",
              "    }\n",
              "\n",
              "    .dataframe thead th {\n",
              "        text-align: right;\n",
              "    }\n",
              "</style>\n",
              "<table border=\"1\" class=\"dataframe\">\n",
              "  <thead>\n",
              "    <tr style=\"text-align: right;\">\n",
              "      <th></th>\n",
              "      <th>Diagnosis</th>\n",
              "      <th>ID</th>\n",
              "      <th>Imaginary Part</th>\n",
              "      <th>Real Part</th>\n",
              "      <th>Gender</th>\n",
              "      <th>Age</th>\n",
              "      <th>Smoking</th>\n",
              "      <th>kluster</th>\n",
              "    </tr>\n",
              "  </thead>\n",
              "  <tbody>\n",
              "    <tr>\n",
              "      <th>2</th>\n",
              "      <td>COPD</td>\n",
              "      <td>301-4</td>\n",
              "      <td>-320.61</td>\n",
              "      <td>-495.26</td>\n",
              "      <td>1.0</td>\n",
              "      <td>77.0</td>\n",
              "      <td>2.0</td>\n",
              "      <td>0</td>\n",
              "    </tr>\n",
              "    <tr>\n",
              "      <th>3</th>\n",
              "      <td>COPD</td>\n",
              "      <td>302-3</td>\n",
              "      <td>-325.39</td>\n",
              "      <td>-473.73</td>\n",
              "      <td>0.0</td>\n",
              "      <td>72.0</td>\n",
              "      <td>2.0</td>\n",
              "      <td>0</td>\n",
              "    </tr>\n",
              "    <tr>\n",
              "      <th>4</th>\n",
              "      <td>COPD</td>\n",
              "      <td>303-3</td>\n",
              "      <td>-323</td>\n",
              "      <td>-476.12</td>\n",
              "      <td>1.0</td>\n",
              "      <td>73.0</td>\n",
              "      <td>3.0</td>\n",
              "      <td>0</td>\n",
              "    </tr>\n",
              "    <tr>\n",
              "      <th>5</th>\n",
              "      <td>COPD</td>\n",
              "      <td>304-4</td>\n",
              "      <td>-327.78</td>\n",
              "      <td>-473.73</td>\n",
              "      <td>1.0</td>\n",
              "      <td>76.0</td>\n",
              "      <td>2.0</td>\n",
              "      <td>0</td>\n",
              "    </tr>\n",
              "    <tr>\n",
              "      <th>6</th>\n",
              "      <td>COPD</td>\n",
              "      <td>305-4</td>\n",
              "      <td>-325.39</td>\n",
              "      <td>-478.52</td>\n",
              "      <td>0.0</td>\n",
              "      <td>65.0</td>\n",
              "      <td>2.0</td>\n",
              "      <td>0</td>\n",
              "    </tr>\n",
              "    <tr>\n",
              "      <th>...</th>\n",
              "      <td>...</td>\n",
              "      <td>...</td>\n",
              "      <td>...</td>\n",
              "      <td>...</td>\n",
              "      <td>...</td>\n",
              "      <td>...</td>\n",
              "      <td>...</td>\n",
              "      <td>...</td>\n",
              "    </tr>\n",
              "    <tr>\n",
              "      <th>368</th>\n",
              "      <td>Infected</td>\n",
              "      <td>148-5</td>\n",
              "      <td>-323</td>\n",
              "      <td>-476.12</td>\n",
              "      <td>1.0</td>\n",
              "      <td>38.0</td>\n",
              "      <td>1.0</td>\n",
              "      <td>1</td>\n",
              "    </tr>\n",
              "    <tr>\n",
              "      <th>369</th>\n",
              "      <td>Infected</td>\n",
              "      <td>149-5</td>\n",
              "      <td>-323</td>\n",
              "      <td>-476.12</td>\n",
              "      <td>1.0</td>\n",
              "      <td>36.0</td>\n",
              "      <td>1.0</td>\n",
              "      <td>1</td>\n",
              "    </tr>\n",
              "    <tr>\n",
              "      <th>370</th>\n",
              "      <td>Infected</td>\n",
              "      <td>150-5</td>\n",
              "      <td>-323</td>\n",
              "      <td>-480.91</td>\n",
              "      <td>0.0</td>\n",
              "      <td>33.0</td>\n",
              "      <td>1.0</td>\n",
              "      <td>1</td>\n",
              "    </tr>\n",
              "    <tr>\n",
              "      <th>371</th>\n",
              "      <td>Infected</td>\n",
              "      <td>151-4</td>\n",
              "      <td>-327.78</td>\n",
              "      <td>-476.12</td>\n",
              "      <td>1.0</td>\n",
              "      <td>43.0</td>\n",
              "      <td>1.0</td>\n",
              "      <td>1</td>\n",
              "    </tr>\n",
              "    <tr>\n",
              "      <th>377</th>\n",
              "      <td>Infected</td>\n",
              "      <td>157-3</td>\n",
              "      <td>-327.78</td>\n",
              "      <td>-473.73</td>\n",
              "      <td>0.0</td>\n",
              "      <td>25.0</td>\n",
              "      <td>2.0</td>\n",
              "      <td>0</td>\n",
              "    </tr>\n",
              "  </tbody>\n",
              "</table>\n",
              "<p>100 rows × 8 columns</p>\n",
              "</div>"
            ],
            "text/plain": [
              "    Diagnosis     ID Imaginary Part Real Part  Gender   Age  Smoking  kluster\n",
              "2        COPD  301-4        -320.61   -495.26     1.0  77.0      2.0        0\n",
              "3        COPD  302-3        -325.39   -473.73     0.0  72.0      2.0        0\n",
              "4        COPD  303-3           -323   -476.12     1.0  73.0      3.0        0\n",
              "5        COPD  304-4        -327.78   -473.73     1.0  76.0      2.0        0\n",
              "6        COPD  305-4        -325.39   -478.52     0.0  65.0      2.0        0\n",
              "..        ...    ...            ...       ...     ...   ...      ...      ...\n",
              "368  Infected  148-5           -323   -476.12     1.0  38.0      1.0        1\n",
              "369  Infected  149-5           -323   -476.12     1.0  36.0      1.0        1\n",
              "370  Infected  150-5           -323   -480.91     0.0  33.0      1.0        1\n",
              "371  Infected  151-4        -327.78   -476.12     1.0  43.0      1.0        1\n",
              "377  Infected  157-3        -327.78   -473.73     0.0  25.0      2.0        0\n",
              "\n",
              "[100 rows x 8 columns]"
            ]
          },
          "metadata": {
            "tags": []
          },
          "execution_count": 70
        }
      ]
    },
    {
      "cell_type": "code",
      "metadata": {
        "id": "QwsNrS5sP0jO",
        "colab": {
          "base_uri": "https://localhost:8080/",
          "height": 281
        },
        "outputId": "e1f849be-aacc-4895-fc07-f64459144bee"
      },
      "source": [
        "#--- Memvisualkan hasil kluster ---\n",
        "output = plt.scatter(temp_array[:,0], temp_array[:,1], s = 100, c = temp.kluster, marker = \"o\", alpha = 1, )\n",
        "centers = Cluster.cluster_centers_\n",
        "plt.scatter(centers[:,0], centers[:,1], c='red', s=200, alpha=1 , marker=\"s\");\n",
        "plt.title(\"Hasil Klustering K-Means\")\n",
        "plt.colorbar (output)\n",
        "plt.show()"
      ],
      "execution_count": null,
      "outputs": [
        {
          "output_type": "display_data",
          "data": {
            "image/png": "[encoded data removed]",
            "text/plain": [
              "<Figure size 432x288 with 2 Axes>"
            ]
          },
          "metadata": {
            "tags": [],
            "needs_background": "light"
          }
        }
      ]
    },
    {
      "cell_type": "code",
      "metadata": {
        "id": "TxToiWwNTgeG",
        "colab": {
          "base_uri": "https://localhost:8080/",
          "height": 295
        },
        "outputId": "647c66a0-f135-46e1-b6d4-f1ae35a401c6"
      },
      "source": [
        "Sum_of_squared_distances = []\n",
        "K = range(1,10)\n",
        "for k in K:\n",
        "    km = KMeans(n_clusters=k)\n",
        "    km = km.fit(temp)\n",
        "    Sum_of_squared_distances.append(km.inertia_)\n",
        "plt.plot(K, Sum_of_squared_distances, 'bx-')\n",
        "plt.xlabel('Age')\n",
        "plt.ylabel('Smoking')\n",
        "plt.title('Menggunakan metode ELbow')\n",
        "plt.show()\n"
      ],
      "execution_count": null,
      "outputs": [
        {
          "output_type": "display_data",
          "data": {
            "image/png": "[encoded data removed]",
            "text/plain": [
              "<Figure size 432x288 with 1 Axes>"
            ]
          },
          "metadata": {
            "tags": [],
            "needs_background": "light"
          }
        }
      ]
    },
    {
      "cell_type": "code",
      "metadata": {
        "id": "jlB4H6_iUU_V",
        "colab": {
          "base_uri": "https://localhost:8080/"
        },
        "outputId": "2d32e18b-5293-4753-c5c0-a214d7b12a92"
      },
      "source": [
        "print('Nilai SSE terkecil :',km.inertia_) #Nilai SSE terkecil \n",
        "print(Sum_of_squared_distances)"
      ],
      "execution_count": null,
      "outputs": [
        {
          "output_type": "stream",
          "text": [
            "Nilai SSE terkecil : 0.4998148021700563\n",
            "[41.75193905817176, 6.782027028298115, 3.760254777609452, 2.433806419571017, 1.471317550370528, 1.0475796250917442, 0.8362381929385861, 0.6362498986250158, 0.4998148021700563]\n"
          ],
          "name": "stdout"
        }
      ]
    },
    {
      "cell_type": "code",
      "metadata": {
        "colab": {
          "base_uri": "https://localhost:8080/"
        },
        "id": "XL-73cnz8BnG",
        "outputId": "c1dfb8b0-6a8d-4f39-e61c-f7febec8eb98"
      },
      "source": [
        "from sklearn.metrics import silhouette_score\n",
        "range_n_clusters = list (range(2,10))\n",
        "for n_clusters in range_n_clusters:\n",
        "    clusterer = KMeans(n_clusters=n_clusters)\n",
        "    preds = clusterer.fit_predict(temp)\n",
        "    centers = clusterer.cluster_centers_\n",
        "\n",
        "    score = silhouette_score(temp, preds)\n",
        "    print(\"For n_clusters = {}, silhouette score is {})\".format(n_clusters, score))"
      ],
      "execution_count": null,
      "outputs": [
        {
          "output_type": "stream",
          "text": [
            "For n_clusters = 2, silhouette score is 0.766854721577236)\n",
            "For n_clusters = 3, silhouette score is 0.7031365206164925)\n",
            "For n_clusters = 4, silhouette score is 0.7075916230116147)\n",
            "For n_clusters = 5, silhouette score is 0.6312212762751518)\n",
            "For n_clusters = 6, silhouette score is 0.6449352694600101)\n",
            "For n_clusters = 7, silhouette score is 0.6403330454429822)\n",
            "For n_clusters = 8, silhouette score is 0.5799026755960583)\n",
            "For n_clusters = 9, silhouette score is 0.5826408320832531)\n"
          ],
          "name": "stdout"
        }
      ]
    }
  ]
}